{
  "nbformat": 4,
  "nbformat_minor": 0,
  "metadata": {
    "colab": {
      "provenance": [],
      "include_colab_link": true
    },
    "kernelspec": {
      "name": "python3",
      "display_name": "Python 3"
    },
    "language_info": {
      "name": "python"
    }
  },
  "cells": [
    {
      "cell_type": "markdown",
      "metadata": {
        "id": "view-in-github",
        "colab_type": "text"
      },
      "source": [
        "<a href=\"https://colab.research.google.com/github/JSJeong-me/KOSA-GPT_Python-2023/blob/main/Atlas_Demo_by_Nomic.ipynb\" target=\"_parent\"><img src=\"https://colab.research.google.com/assets/colab-badge.svg\" alt=\"Open In Colab\"/></a>"
      ]
    },
    {
      "cell_type": "markdown",
      "source": [
        "**Using Atlas to Visualize a Dataset of Text**\n",
        "\n",
        "See [docs.nomic.ai](https://docs.nomic.ai) for documentation."
      ],
      "metadata": {
        "id": "DU0NasCBFHI0"
      }
    },
    {
      "cell_type": "code",
      "execution_count": 1,
      "metadata": {
        "id": "bV3EP-aJC53E",
        "outputId": "88b33a45-a357-4bb3-b12f-d844798f89bc",
        "colab": {
          "base_uri": "https://localhost:8080/"
        }
      },
      "outputs": [
        {
          "output_type": "stream",
          "name": "stdout",
          "text": [
            "Collecting nomic\n",
            "  Downloading nomic-2.0.3.tar.gz (31 kB)\n",
            "  Preparing metadata (setup.py) ... \u001b[?25l\u001b[?25hdone\n",
            "Requirement already satisfied: click in /usr/local/lib/python3.10/dist-packages (from nomic) (8.1.3)\n",
            "Collecting jsonlines (from nomic)\n",
            "  Downloading jsonlines-3.1.0-py3-none-any.whl (8.6 kB)\n",
            "Collecting loguru (from nomic)\n",
            "  Downloading loguru-0.7.0-py3-none-any.whl (59 kB)\n",
            "\u001b[2K     \u001b[90m━━━━━━━━━━━━━━━━━━━━━━━━━━━━━━━━━━━━━━━━\u001b[0m \u001b[32m60.0/60.0 kB\u001b[0m \u001b[31m6.6 MB/s\u001b[0m eta \u001b[36m0:00:00\u001b[0m\n",
            "\u001b[?25hRequirement already satisfied: rich in /usr/local/lib/python3.10/dist-packages (from nomic) (13.4.2)\n",
            "Requirement already satisfied: requests in /usr/local/lib/python3.10/dist-packages (from nomic) (2.27.1)\n",
            "Requirement already satisfied: numpy in /usr/local/lib/python3.10/dist-packages (from nomic) (1.22.4)\n",
            "Requirement already satisfied: pandas in /usr/local/lib/python3.10/dist-packages (from nomic) (1.5.3)\n",
            "Requirement already satisfied: pydantic in /usr/local/lib/python3.10/dist-packages (from nomic) (1.10.9)\n",
            "Collecting wonderwords (from nomic)\n",
            "  Downloading wonderwords-2.2.0-py3-none-any.whl (44 kB)\n",
            "\u001b[2K     \u001b[90m━━━━━━━━━━━━━━━━━━━━━━━━━━━━━━━━━━━━━━━━\u001b[0m \u001b[32m45.0/45.0 kB\u001b[0m \u001b[31m5.2 MB/s\u001b[0m eta \u001b[36m0:00:00\u001b[0m\n",
            "\u001b[?25hRequirement already satisfied: tqdm in /usr/local/lib/python3.10/dist-packages (from nomic) (4.65.0)\n",
            "Collecting cohere (from nomic)\n",
            "  Downloading cohere-4.11.2-py3-none-any.whl (39 kB)\n",
            "Requirement already satisfied: pyarrow in /usr/local/lib/python3.10/dist-packages (from nomic) (9.0.0)\n",
            "Requirement already satisfied: aiohttp<4.0,>=3.0 in /usr/local/lib/python3.10/dist-packages (from cohere->nomic) (3.8.4)\n",
            "Collecting backoff<3.0,>=2.0 (from cohere->nomic)\n",
            "  Downloading backoff-2.2.1-py3-none-any.whl (15 kB)\n",
            "Collecting importlib_metadata<7.0,>=6.0 (from cohere->nomic)\n",
            "  Downloading importlib_metadata-6.7.0-py3-none-any.whl (22 kB)\n",
            "Requirement already satisfied: urllib3<1.27,>=1.21.1 in /usr/local/lib/python3.10/dist-packages (from requests->nomic) (1.26.16)\n",
            "Requirement already satisfied: certifi>=2017.4.17 in /usr/local/lib/python3.10/dist-packages (from requests->nomic) (2023.5.7)\n",
            "Requirement already satisfied: charset-normalizer~=2.0.0 in /usr/local/lib/python3.10/dist-packages (from requests->nomic) (2.0.12)\n",
            "Requirement already satisfied: idna<4,>=2.5 in /usr/local/lib/python3.10/dist-packages (from requests->nomic) (3.4)\n",
            "Requirement already satisfied: attrs>=19.2.0 in /usr/local/lib/python3.10/dist-packages (from jsonlines->nomic) (23.1.0)\n",
            "Requirement already satisfied: python-dateutil>=2.8.1 in /usr/local/lib/python3.10/dist-packages (from pandas->nomic) (2.8.2)\n",
            "Requirement already satisfied: pytz>=2020.1 in /usr/local/lib/python3.10/dist-packages (from pandas->nomic) (2022.7.1)\n",
            "Requirement already satisfied: typing-extensions>=4.2.0 in /usr/local/lib/python3.10/dist-packages (from pydantic->nomic) (4.6.3)\n",
            "Requirement already satisfied: markdown-it-py>=2.2.0 in /usr/local/lib/python3.10/dist-packages (from rich->nomic) (3.0.0)\n",
            "Requirement already satisfied: pygments<3.0.0,>=2.13.0 in /usr/local/lib/python3.10/dist-packages (from rich->nomic) (2.14.0)\n",
            "Requirement already satisfied: multidict<7.0,>=4.5 in /usr/local/lib/python3.10/dist-packages (from aiohttp<4.0,>=3.0->cohere->nomic) (6.0.4)\n",
            "Requirement already satisfied: async-timeout<5.0,>=4.0.0a3 in /usr/local/lib/python3.10/dist-packages (from aiohttp<4.0,>=3.0->cohere->nomic) (4.0.2)\n",
            "Requirement already satisfied: yarl<2.0,>=1.0 in /usr/local/lib/python3.10/dist-packages (from aiohttp<4.0,>=3.0->cohere->nomic) (1.9.2)\n",
            "Requirement already satisfied: frozenlist>=1.1.1 in /usr/local/lib/python3.10/dist-packages (from aiohttp<4.0,>=3.0->cohere->nomic) (1.3.3)\n",
            "Requirement already satisfied: aiosignal>=1.1.2 in /usr/local/lib/python3.10/dist-packages (from aiohttp<4.0,>=3.0->cohere->nomic) (1.3.1)\n",
            "Requirement already satisfied: zipp>=0.5 in /usr/local/lib/python3.10/dist-packages (from importlib_metadata<7.0,>=6.0->cohere->nomic) (3.15.0)\n",
            "Requirement already satisfied: mdurl~=0.1 in /usr/local/lib/python3.10/dist-packages (from markdown-it-py>=2.2.0->rich->nomic) (0.1.2)\n",
            "Requirement already satisfied: six>=1.5 in /usr/local/lib/python3.10/dist-packages (from python-dateutil>=2.8.1->pandas->nomic) (1.16.0)\n",
            "Building wheels for collected packages: nomic\n",
            "  Building wheel for nomic (setup.py) ... \u001b[?25l\u001b[?25hdone\n",
            "  Created wheel for nomic: filename=nomic-2.0.3-py3-none-any.whl size=34825 sha256=91f1a2d19ce3b05bde8d8cd4f17db313de5fd88d97afc6489e8ee5b0ec8bc1bc\n",
            "  Stored in directory: /root/.cache/pip/wheels/81/a3/85/04b59315982453efb10a6dc8e4356702d55ecac4d1d2d67567\n",
            "Successfully built nomic\n",
            "Installing collected packages: wonderwords, loguru, jsonlines, importlib_metadata, backoff, cohere, nomic\n",
            "Successfully installed backoff-2.2.1 cohere-4.11.2 importlib_metadata-6.7.0 jsonlines-3.1.0 loguru-0.7.0 nomic-2.0.3 wonderwords-2.2.0\n"
          ]
        }
      ],
      "source": [
        "!pip install --upgrade nomic"
      ]
    },
    {
      "cell_type": "code",
      "source": [
        "import nomic\n",
        "from nomic import atlas\n",
        "nomic.login('7xDPkYXSYDc1_ErdTPIcoAR9RNd8YDlkS3nVNXcVoIMZ6') #api key to a limited demo account. Make your own account at atlas.nomic.ai"
      ],
      "metadata": {
        "id": "8R8Nj8O5EDJg"
      },
      "execution_count": 2,
      "outputs": []
    },
    {
      "cell_type": "code",
      "source": [
        "#A map of random embeddings\n",
        "import numpy as np\n",
        "\n",
        "num_embeddings = 10000\n",
        "embeddings = np.random.rand(num_embeddings, 256)\n",
        "\n",
        "project = atlas.map_embeddings(embeddings=embeddings)\n",
        "print(project.maps)"
      ],
      "metadata": {
        "id": "wJk2snwBEJYu"
      },
      "execution_count": null,
      "outputs": []
    },
    {
      "cell_type": "code",
      "source": [
        "# run this cell to interact with your map in\n",
        "project.maps[0]"
      ],
      "metadata": {
        "id": "odSeviEEF20_"
      },
      "execution_count": null,
      "outputs": []
    },
    {
      "cell_type": "markdown",
      "source": [
        "**Now a make a map of a news dataset**\n",
        "\n",
        "This will take roughly 5 minutes to complete."
      ],
      "metadata": {
        "id": "jz8gLsfeG5Vf"
      }
    },
    {
      "cell_type": "code",
      "source": [
        "!pip install datasets\n",
        "from datasets import load_dataset\n",
        "\n",
        "dataset = load_dataset('ag_news')['train']\n",
        "\n",
        "max_documents = 10000\n",
        "subset_idxs = np.random.randint(len(dataset), size=max_documents).tolist()\n",
        "documents = [dataset[i] for i in subset_idxs]\n",
        "for i in range(max_documents):\n",
        "  documents[i]['id'] = i\n",
        "\n",
        "project = atlas.map_text(data=documents,\n",
        "                         id_field='id',\n",
        "                          indexed_field='text',\n",
        "                          description='News 10k Example.'\n",
        "                          )"
      ],
      "metadata": {
        "id": "jYOVXTzxF7_n"
      },
      "execution_count": null,
      "outputs": []
    },
    {
      "cell_type": "code",
      "source": [
        "project.maps[0] #show the map in the notebook."
      ],
      "metadata": {
        "id": "RbNyaQkoGzw4"
      },
      "execution_count": null,
      "outputs": []
    },
    {
      "cell_type": "code",
      "source": [
        "# Now perform similarity search over the map!\n",
        "map = project.maps[0]\n",
        "with project.wait_for_project_lock():\n",
        "  neighbors, _ = map.vector_search(ids=[0], k=5)\n",
        "\n",
        "#print the 5 most similar datapoints to the data point with id = 0 (including the point with id=0)\n",
        "similar_datapoints = project.get_data(ids=neighbors[0])\n",
        "for point in similar_datapoints:\n",
        "  print(point)\n",
        "\n"
      ],
      "metadata": {
        "id": "DioSN8X_HLRg"
      },
      "execution_count": null,
      "outputs": []
    },
    {
      "cell_type": "code",
      "source": [],
      "metadata": {
        "id": "b9to8vOpL0c1"
      },
      "execution_count": null,
      "outputs": []
    }
  ]
}