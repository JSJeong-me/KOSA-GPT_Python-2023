{
  "nbformat": 4,
  "nbformat_minor": 0,
  "metadata": {
    "colab": {
      "provenance": [],
      "authorship_tag": "ABX9TyNkrd4tzAI58OGESZbJ9H1n",
      "include_colab_link": true
    },
    "kernelspec": {
      "name": "python3",
      "display_name": "Python 3"
    },
    "language_info": {
      "name": "python"
    }
  },
  "cells": [
    {
      "cell_type": "markdown",
      "metadata": {
        "id": "view-in-github",
        "colab_type": "text"
      },
      "source": [
        "<a href=\"https://colab.research.google.com/github/JSJeong-me/KOSA-GPT_Python-2023/blob/main/Image-01.ipynb\" target=\"_parent\"><img src=\"https://colab.research.google.com/assets/colab-badge.svg\" alt=\"Open In Colab\"/></a>"
      ]
    },
    {
      "cell_type": "code",
      "source": [
        "!pip install langchain"
      ],
      "metadata": {
        "id": "M6E4Yvv4nBRF"
      },
      "execution_count": null,
      "outputs": []
    },
    {
      "cell_type": "code",
      "source": [
        "!pip install steamship"
      ],
      "metadata": {
        "id": "b9pk314Po583"
      },
      "execution_count": null,
      "outputs": []
    },
    {
      "cell_type": "code",
      "execution_count": 4,
      "metadata": {
        "id": "nDNRvn7lm6c1"
      },
      "outputs": [],
      "source": [
        "from steamship import Block, Steamship\n",
        "import re\n",
        "from IPython.display import Image"
      ]
    },
    {
      "cell_type": "code",
      "source": [
        "from langchain import OpenAI\n",
        "from langchain.agents import initialize_agent\n",
        "from langchain.agents import AgentType\n",
        "from langchain.tools import SteamshipImageGenerationTool"
      ],
      "metadata": {
        "id": "sH2XUTK-osGw"
      },
      "execution_count": 5,
      "outputs": []
    },
    {
      "cell_type": "code",
      "source": [
        "!pip install openai"
      ],
      "metadata": {
        "id": "NOuvRvvDnOZD"
      },
      "execution_count": null,
      "outputs": []
    },
    {
      "cell_type": "code",
      "source": [
        "import os\n",
        "os.environ[\"OPENAI_API_KEY\"] = \"sk\""
      ],
      "metadata": {
        "id": "fzR6U76CnPXH"
      },
      "execution_count": 7,
      "outputs": []
    },
    {
      "cell_type": "code",
      "source": [
        "llm = OpenAI(temperature=0)"
      ],
      "metadata": {
        "id": "QOrJDfyxnIXR"
      },
      "execution_count": 8,
      "outputs": []
    },
    {
      "cell_type": "markdown",
      "source": [
        "### Dalle"
      ],
      "metadata": {
        "id": "jzlmvMf-pycE"
      }
    },
    {
      "cell_type": "code",
      "source": [
        "tools = [SteamshipImageGenerationTool(model_name=\"dall-e\")]"
      ],
      "metadata": {
        "id": "YNKsdbGgpHV-"
      },
      "execution_count": null,
      "outputs": []
    },
    {
      "cell_type": "code",
      "source": [
        "mrkl = initialize_agent(\n",
        "    tools, llm, agent=AgentType.ZERO_SHOT_REACT_DESCRIPTION, verbose=True\n",
        ")"
      ],
      "metadata": {
        "id": "EXw1CgcrpPei"
      },
      "execution_count": null,
      "outputs": []
    },
    {
      "cell_type": "code",
      "source": [
        "output = mrkl.run(\"How would you visualize a parot playing soccer?\")"
      ],
      "metadata": {
        "id": "8gIhTOlopT7n"
      },
      "execution_count": null,
      "outputs": []
    },
    {
      "cell_type": "code",
      "source": [
        "def show_output(output):\n",
        "    \"\"\"Display the multi-modal output from the agent.\"\"\"\n",
        "    UUID_PATTERN = re.compile(\n",
        "        r\"([0-9A-Za-z]{8}-[0-9A-Za-z]{4}-[0-9A-Za-z]{4}-[0-9A-Za-z]{4}-[0-9A-Za-z]{12})\"\n",
        "    )\n",
        "\n",
        "    outputs = UUID_PATTERN.split(output)\n",
        "    outputs = [\n",
        "        re.sub(r\"^\\W+\", \"\", el) for el in outputs\n",
        "    ]  # Clean trailing and leading non-word characters\n",
        "\n",
        "    for output in outputs:\n",
        "        maybe_block_id = UUID_PATTERN.search(output)\n",
        "        if maybe_block_id:\n",
        "            display(Image(Block.get(Steamship(), _id=maybe_block_id.group()).raw()))\n",
        "        else:\n",
        "            print(output, end=\"\\n\\n\")"
      ],
      "metadata": {
        "id": "u6t2TvcspbDy"
      },
      "execution_count": null,
      "outputs": []
    },
    {
      "cell_type": "code",
      "source": [
        "show_output(output)"
      ],
      "metadata": {
        "id": "I19YiYaCpcUx"
      },
      "execution_count": null,
      "outputs": []
    },
    {
      "cell_type": "markdown",
      "source": [
        "### StableDiffusion"
      ],
      "metadata": {
        "id": "Ynbjf6p5pknH"
      }
    },
    {
      "cell_type": "code",
      "source": [
        "tools = [SteamshipImageGenerationTool(model_name=\"stable-diffusion\")]"
      ],
      "metadata": {
        "id": "aQcaxskcphwm"
      },
      "execution_count": null,
      "outputs": []
    },
    {
      "cell_type": "code",
      "source": [
        "mrkl = initialize_agent(\n",
        "    tools, llm, agent=AgentType.ZERO_SHOT_REACT_DESCRIPTION, verbose=True\n",
        ")"
      ],
      "metadata": {
        "id": "SKT1llOKpkG0"
      },
      "execution_count": null,
      "outputs": []
    },
    {
      "cell_type": "code",
      "source": [
        "output = mrkl.run(\"How would you visualize a parot playing soccer?\")"
      ],
      "metadata": {
        "id": "Ei6TE36JpuNm"
      },
      "execution_count": null,
      "outputs": []
    },
    {
      "cell_type": "code",
      "source": [
        "show_output(output)"
      ],
      "metadata": {
        "id": "uS70mOTPpwgF"
      },
      "execution_count": null,
      "outputs": []
    }
  ]
}