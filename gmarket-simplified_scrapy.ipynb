{
  "nbformat": 4,
  "nbformat_minor": 0,
  "metadata": {
    "colab": {
      "provenance": [],
      "authorship_tag": "ABX9TyMT+MakhbQZSowY1h8wnu69",
      "include_colab_link": true
    },
    "kernelspec": {
      "name": "python3",
      "display_name": "Python 3"
    },
    "language_info": {
      "name": "python"
    }
  },
  "cells": [
    {
      "cell_type": "markdown",
      "metadata": {
        "id": "view-in-github",
        "colab_type": "text"
      },
      "source": [
        "<a href=\"https://colab.research.google.com/github/JSJeong-me/KOSA-GPT_Python-2023/blob/main/gmarket-simplified_scrapy.ipynb\" target=\"_parent\"><img src=\"https://colab.research.google.com/assets/colab-badge.svg\" alt=\"Open In Colab\"/></a>"
      ]
    },
    {
      "cell_type": "code",
      "source": [
        "!pip install simplified_scrapy"
      ],
      "metadata": {
        "id": "54cJmma-zuaG"
      },
      "execution_count": null,
      "outputs": []
    },
    {
      "cell_type": "code",
      "source": [
        "import requests\n",
        "from simplified_scrapy.simplified_doc import SimplifiedDoc\n",
        "import pandas as pd\n",
        "\n",
        "data_info = []\n",
        "\n",
        "def data_select(url):\n",
        "\n",
        "  source = requests.get(url).text\n",
        "  doc = SimplifiedDoc(source)\n",
        "  infos = doc.getElements('a', attr='class', value='itemname')\n",
        "\n",
        "  for info in infos:\n",
        "    if info:\n",
        "        p_href = info['href']\n",
        "        p_html = info['html']\n",
        "        data_info.append([p_href, p_html])\n",
        "\n",
        "data_select('https://www.gmarket.co.kr/n/best')\n",
        "\n",
        "df = pd.DataFrame(data_info)\n",
        "df.columns = ['url', 'description']\n",
        "# df.head(20)\n",
        "df.to_excel('gmarket.xlsx',  encoding='utf-16')"
      ],
      "metadata": {
        "colab": {
          "base_uri": "https://localhost:8080/"
        },
        "id": "G6Nr5uL60ZIA",
        "outputId": "e720a2ce-0cf6-402a-a91d-e3c838922d3e"
      },
      "execution_count": 10,
      "outputs": [
        {
          "output_type": "stream",
          "name": "stderr",
          "text": [
            "INFO:numexpr.utils:NumExpr defaulting to 2 threads.\n",
            "2023-07-06 10:49:28 [numexpr.utils] INFO: NumExpr defaulting to 2 threads.\n",
            "DEBUG:urllib3.connectionpool:Starting new HTTPS connection (1): www.gmarket.co.kr:443\n",
            "2023-07-06 10:49:29 [urllib3.connectionpool] DEBUG: Starting new HTTPS connection (1): www.gmarket.co.kr:443\n",
            "DEBUG:urllib3.connectionpool:https://www.gmarket.co.kr:443 \"GET /n/best HTTP/1.1\" 200 None\n",
            "2023-07-06 10:49:30 [urllib3.connectionpool] DEBUG: https://www.gmarket.co.kr:443 \"GET /n/best HTTP/1.1\" 200 None\n",
            "/usr/local/lib/python3.10/dist-packages/pandas/util/_decorators.py:211: FutureWarning: the 'encoding' keyword is deprecated and will be removed in a future version. Please take steps to stop the use of 'encoding'\n",
            "  return func(*args, **kwargs)\n"
          ]
        }
      ]
    }
  ]
}