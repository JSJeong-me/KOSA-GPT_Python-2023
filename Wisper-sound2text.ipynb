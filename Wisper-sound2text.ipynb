{
  "nbformat": 4,
  "nbformat_minor": 0,
  "metadata": {
    "colab": {
      "provenance": [],
      "machine_shape": "hm",
      "gpuType": "T4",
      "authorship_tag": "ABX9TyOR5lyySZL+WAk95wUWCbtr",
      "include_colab_link": true
    },
    "kernelspec": {
      "name": "python3",
      "display_name": "Python 3"
    },
    "language_info": {
      "name": "python"
    },
    "accelerator": "GPU"
  },
  "cells": [
    {
      "cell_type": "markdown",
      "metadata": {
        "id": "view-in-github",
        "colab_type": "text"
      },
      "source": [
        "<a href=\"https://colab.research.google.com/github/JSJeong-me/KOSA-GPT_Python-2023/blob/main/Wisper-sound2text.ipynb\" target=\"_parent\"><img src=\"https://colab.research.google.com/assets/colab-badge.svg\" alt=\"Open In Colab\"/></a>"
      ]
    },
    {
      "cell_type": "code",
      "source": [
        "!pip install openai\n",
        "!pip install python-docx"
      ],
      "metadata": {
        "id": "E9Tqzk4gJgvG"
      },
      "execution_count": null,
      "outputs": []
    },
    {
      "cell_type": "code",
      "source": [
        "!pip install pydub"
      ],
      "metadata": {
        "id": "cOl5TPQXK-ec"
      },
      "execution_count": null,
      "outputs": []
    },
    {
      "cell_type": "code",
      "source": [
        "%env OPENAI_API_KEY=sk-"
      ],
      "metadata": {
        "id": "pXviD2F6J8VD"
      },
      "execution_count": null,
      "outputs": []
    },
    {
      "cell_type": "code",
      "source": [
        "!curl https://api.openai.com/v1/audio/transcriptions \\\n",
        "  -H \"Authorization: Bearer $OPENAI_API_KEY\" \\\n",
        "  -H \"Content-Type: multipart/form-data\" \\\n",
        "  -F file=\"@ncl77_dubbing.mp3\" \\\n",
        "  -F model=\"whisper-1\"\n"
      ],
      "metadata": {
        "colab": {
          "base_uri": "https://localhost:8080/"
        },
        "id": "hLqwRlAcJyy1",
        "outputId": "93776001-1996-4842-a00a-864c076a8f7e"
      },
      "execution_count": 3,
      "outputs": [
        {
          "output_type": "stream",
          "name": "stdout",
          "text": [
            "{\"text\":\"안녕하세요. 저는 은씨일 77전자 기기 세척제를 홍보하는 서현이에요. 날씨가 점점 더워지고 있어 이제는 에어컨을 켤 준비를 해야겠어요. 그런데 베란다에 있는 에어컨 실외기는 잘 있는지 궁금하네요. 그래서 밖에 나가 에어컨 실외기를 들여다보았더니 어머나 이게 웬 먼지죠? 실외기에 이렇게 먼지가 많이 쌓여 있으면 냉방 효율도 떨어지고 전기값도 많이 나오겠죠. 더 큰 문제는 실외기 과열로 화재가 발생하는 것을 뉴스에서 종종 보았어요. 에어컨 실외기는 1년에 한번 내지는 봄과 가을로 두번은 청소를 해주어야 한다고 합니다. 자 그럼 지금부터 ncl77로 실외기 청소 DIY 직접 할 수 있는 방법을 알려드릴게요. 청소 방법은 아주 간단하답니다. 제일 먼저 안전을 위해서 실외기 전원을 차단해 주셔야 해요. 실외기 전원은 밖에 있을 수도 있고요. 실내 배전반에 있을 수도 있어요. 안전을 위해서 조심스럽게 스위치를 내려 주셔야 해요. 실외기는 1년 내내 외부에 놓여 있어요. 그래서 황사와 먼지가 잔뜩 쌓이게 된답니다. 실외기 표면을 덮고 있는 먼지는 공기순환을 방해해서 냉방 효율을 떨어뜨리죠. 냉방 효율이 떨어지면 당연히 전기료도 많이 나오겠죠. 실외기 외부에 쌓인 먼지는 빗자루로 털어내시고요. 실외기 핀 사이에 있는 먼지는 동영상과 같이 ncl77을 살짝 골고루 뿌려 주시기만 하면 실외기 청소 끝. 그리고 옆에 있는 청소 전에 에어컨 핀과 청소 후에 에어컨 핀을 비교해 보세요. ncl77로 청소한 부분은 핀 내부가 흔히 들여다 보여요. 청소가 잘 된 것 같아요. 이제는 공기가 잘 통하게 되어 에어컨 냉방이 잘 되겠지요. 직접 해보니 생각보다 무척 간단하답니다. 그리고 하나 더. 여름철 에어컨 실외기 화재는 실외기 내부의 컨트롤 판넬에서 주로 발생합니다. 컨트롤 판넬을 열어보니 먼지가 제법 쌓여 있네요. 여기도 간단히 ncl77을 천천히 뿌려주면 청소 끝. ncl77은 절연 세척제라서 기판에 직접 뿌려도 됩니다. 컨트롤 판넬을 물청소 한 것 같아요. 새 것처럼 엄청 깨끗해졌어요. 그럼 이번 여름도 에어컨 덕분에 시원하게 지낼 수 있을 것 같아요. 마지막 마무리로 작업 전에 내려놓았던 전원 차단기를 올려야겠죠. 전원 차단기를 조심스럽게 올려주세요. 에어컨 종류에 따라서는 전원이 공급되고서 몇 시간 충전이 완료된 후 컴퓨레셔가 작동하기 때문에 충전이 완료될 때까지 기다리셔야 냉방이 가동될 수 있는 점 알고 계셔야 합니다. 안전을 위해서 중요한 것 하나 더. 실외기 위치가 접근하기 어려운 곳에 있는 경우에는 직접 작업하다가 다칠 수 있으니까 반드시 전문 업체에 도움을 받도록 하세요. 자 그럼 실외기 청소 끝. 여러분 모두 ncl77과 시원한 여름 보내세요. ncl77은 네이버에서 검색하시면 직접 구매하실 수 있답니다. 그럼 저 서현이는 다음에 찾아뵙겠습니다.\"}"
          ]
        }
      ]
    },
    {
      "cell_type": "code",
      "execution_count": 9,
      "metadata": {
        "colab": {
          "base_uri": "https://localhost:8080/"
        },
        "id": "1Si7HM7nIkxA",
        "outputId": "344db54c-4348-49b3-f68f-da457235c461"
      },
      "outputs": [
        {
          "output_type": "stream",
          "name": "stdout",
          "text": [
            "\n"
          ]
        }
      ],
      "source": [
        "import requests\n",
        "import pydub\n",
        "\n",
        "mp3_path = \"ncl77_dubbing.mp3\"\n",
        "wav_path = \"ncl77_dubbing.wav\"\n",
        "\n",
        "# 1. Convert the MP3 file to WAV format, because most ASR systems prefer WAV.\n",
        "def convert_mp3_to_wav(mp3_path, wav_path):\n",
        "    audio = pydub.AudioSegment.from_mp3(mp3_path)\n",
        "    audio.export(wav_path, format=\"wav\")\n",
        "\n",
        "# 2. Use Whisper ASR API to transcribe the WAV file.\n",
        "def transcribe_audio_with_whisper(wav_path):\n",
        "    WHISPER_ENDPOINT = \"https://api.openai.com/v1/audio/transcriptions\"  # Replace with your endpoint\n",
        "    WHISPER_API_KEY = \"sk\"  # Replace with your API key\n",
        "\n",
        "    headers = {\n",
        "        \"Authorization\": f\"Bearer {WHISPER_API_KEY}\",\n",
        "        \"Content-Type\": \"audio/wav\"\n",
        "    }\n",
        "\n",
        "    with open(wav_path, \"rb\") as f:\n",
        "        response = requests.post(WHISPER_ENDPOINT, headers=headers, data=f)\n",
        "\n",
        "    response_data = response.json()\n",
        "    return response_data.get(\"transcription\", \"\")\n",
        "\n",
        "def main():\n",
        "\n",
        "\n",
        "    convert_mp3_to_wav(mp3_path, wav_path)\n",
        "    transcription = transcribe_audio_with_whisper(wav_path)\n",
        "    print(transcription)\n",
        "\n",
        "if __name__ == \"__main__\":\n",
        "    main()\n"
      ]
    }
  ]
}