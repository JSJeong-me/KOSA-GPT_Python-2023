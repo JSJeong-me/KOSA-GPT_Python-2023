{
  "nbformat": 4,
  "nbformat_minor": 0,
  "metadata": {
    "colab": {
      "provenance": [],
      "authorship_tag": "ABX9TyOYcrbqvDW/FGzI1ayITVeu",
      "include_colab_link": true
    },
    "kernelspec": {
      "name": "python3",
      "display_name": "Python 3"
    },
    "language_info": {
      "name": "python"
    }
  },
  "cells": [
    {
      "cell_type": "markdown",
      "metadata": {
        "id": "view-in-github",
        "colab_type": "text"
      },
      "source": [
        "<a href=\"https://colab.research.google.com/github/JSJeong-me/KOSA-GPT_Python-2023/blob/main/naver-temperature-requests.ipynb\" target=\"_parent\"><img src=\"https://colab.research.google.com/assets/colab-badge.svg\" alt=\"Open In Colab\"/></a>"
      ]
    },
    {
      "cell_type": "code",
      "source": [
        "from bs4 import BeautifulSoup\n",
        "import requests\n",
        "\n",
        "def get_html(url):\n",
        "    response = requests.get(url)\n",
        "    return response.text\n",
        "\n",
        "def parse_temperature(html):\n",
        "    soup = BeautifulSoup(html, 'html.parser')\n",
        "    temp_tag = soup.find('strong', {'class': 'current'})  # This is just an example, the actual tag might be different.\n",
        "    temperature = temp_tag.text if temp_tag else 'Temperature tag not found.'\n",
        "    return temperature\n",
        "\n",
        "url = 'https://weather.naver.com/'  # You should replace with the actual URL.\n",
        "html = get_html(url)\n",
        "temperature = parse_temperature(html)\n",
        "print(f'Current temperature: {temperature}')\n"
      ],
      "metadata": {
        "colab": {
          "base_uri": "https://localhost:8080/"
        },
        "id": "RoKbZ2eFx1Ag",
        "outputId": "b46ee5ca-9921-4c68-878c-f19a5a96e330"
      },
      "execution_count": 4,
      "outputs": [
        {
          "output_type": "stream",
          "name": "stdout",
          "text": [
            "Current temperature: \n",
            "현재 온도29.5°\n",
            "\n"
          ]
        }
      ]
    }
  ]
}