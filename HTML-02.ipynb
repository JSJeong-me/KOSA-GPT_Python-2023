{
  "nbformat": 4,
  "nbformat_minor": 0,
  "metadata": {
    "colab": {
      "provenance": [],
      "authorship_tag": "ABX9TyNDnLPnB4pAd2Q5q0a1PV1h",
      "include_colab_link": true
    },
    "kernelspec": {
      "name": "python3",
      "display_name": "Python 3"
    },
    "language_info": {
      "name": "python"
    }
  },
  "cells": [
    {
      "cell_type": "markdown",
      "metadata": {
        "id": "view-in-github",
        "colab_type": "text"
      },
      "source": [
        "<a href=\"https://colab.research.google.com/github/JSJeong-me/KOSA-GPT_Python-2023/blob/main/HTML-02.ipynb\" target=\"_parent\"><img src=\"https://colab.research.google.com/assets/colab-badge.svg\" alt=\"Open In Colab\"/></a>"
      ]
    },
    {
      "cell_type": "code",
      "source": [
        "!pip install playwright > /dev/null\n",
        "!pip install  lxml"
      ],
      "metadata": {
        "colab": {
          "base_uri": "https://localhost:8080/"
        },
        "id": "OCoOvaxwax7g",
        "outputId": "53c86a4b-0a68-43d9-ceb9-1eaf7f405b27"
      },
      "execution_count": 2,
      "outputs": [
        {
          "output_type": "stream",
          "name": "stdout",
          "text": [
            "Requirement already satisfied: lxml in /usr/local/lib/python3.10/dist-packages (4.9.2)\n"
          ]
        }
      ]
    },
    {
      "cell_type": "code",
      "source": [
        "!playwright install"
      ],
      "metadata": {
        "colab": {
          "base_uri": "https://localhost:8080/"
        },
        "id": "xJFTxYJfbGiy",
        "outputId": "7020c85c-778a-4f2b-9242-08590dd08a60"
      },
      "execution_count": 4,
      "outputs": [
        {
          "output_type": "stream",
          "name": "stdout",
          "text": [
            "Downloading Chromium 115.0.5790.24 (playwright build v1067)\u001b[2m from https://playwright.azureedge.net/builds/chromium/1067/chromium-linux.zip\u001b[22m\n",
            "\u001b[1G146.4 Mb [] 0% 9.8s\u001b[0K\u001b[1G146.4 Mb [] 0% 126.5s\u001b[0K\u001b[1G146.4 Mb [] 0% 99.3s\u001b[0K\u001b[1G146.4 Mb [] 0% 67.2s\u001b[0K\u001b[1G146.4 Mb [] 0% 41.0s\u001b[0K\u001b[1G146.4 Mb [] 0% 24.7s\u001b[0K\u001b[1G146.4 Mb [] 1% 11.3s\u001b[0K\u001b[1G146.4 Mb [] 1% 10.0s\u001b[0K\u001b[1G146.4 Mb [] 2% 8.7s\u001b[0K\u001b[1G146.4 Mb [] 2% 7.7s\u001b[0K\u001b[1G146.4 Mb [] 3% 7.0s\u001b[0K\u001b[1G146.4 Mb [] 3% 6.4s\u001b[0K\u001b[1G146.4 Mb [] 4% 6.2s\u001b[0K\u001b[1G146.4 Mb [] 4% 5.8s\u001b[0K\u001b[1G146.4 Mb [] 6% 4.9s\u001b[0K\u001b[1G146.4 Mb [] 6% 4.6s\u001b[0K\u001b[1G146.4 Mb [] 7% 4.2s\u001b[0K\u001b[1G146.4 Mb [] 8% 4.0s\u001b[0K\u001b[1G146.4 Mb [] 9% 3.8s\u001b[0K\u001b[1G146.4 Mb [] 11% 3.4s\u001b[0K\u001b[1G146.4 Mb [] 12% 3.3s\u001b[0K\u001b[1G146.4 Mb [] 12% 3.1s\u001b[0K\u001b[1G146.4 Mb [] 13% 3.1s\u001b[0K\u001b[1G146.4 Mb [] 14% 3.1s\u001b[0K\u001b[1G146.4 Mb [] 15% 2.8s\u001b[0K\u001b[1G146.4 Mb [] 17% 2.7s\u001b[0K\u001b[1G146.4 Mb [] 18% 2.6s\u001b[0K\u001b[1G146.4 Mb [] 20% 2.4s\u001b[0K\u001b[1G146.4 Mb [] 21% 2.3s\u001b[0K\u001b[1G146.4 Mb [] 22% 2.2s\u001b[0K\u001b[1G146.4 Mb [] 24% 2.1s\u001b[0K\u001b[1G146.4 Mb [] 25% 2.0s\u001b[0K\u001b[1G146.4 Mb [] 26% 1.9s\u001b[0K\u001b[1G146.4 Mb [] 27% 1.9s\u001b[0K\u001b[1G146.4 Mb [] 28% 1.8s\u001b[0K\u001b[1G146.4 Mb [] 30% 1.8s\u001b[0K\u001b[1G146.4 Mb [] 31% 1.7s\u001b[0K\u001b[1G146.4 Mb [] 32% 1.6s\u001b[0K\u001b[1G146.4 Mb [] 33% 1.6s\u001b[0K\u001b[1G146.4 Mb [] 34% 1.6s\u001b[0K\u001b[1G146.4 Mb [] 35% 1.5s\u001b[0K\u001b[1G146.4 Mb [] 36% 1.5s\u001b[0K\u001b[1G146.4 Mb [] 38% 1.5s\u001b[0K\u001b[1G146.4 Mb [] 39% 1.4s\u001b[0K\u001b[1G146.4 Mb [] 40% 1.4s\u001b[0K\u001b[1G146.4 Mb [] 42% 1.3s\u001b[0K\u001b[1G146.4 Mb [] 43% 1.3s\u001b[0K\u001b[1G146.4 Mb [] 45% 1.2s\u001b[0K\u001b[1G146.4 Mb [] 46% 1.2s\u001b[0K\u001b[1G146.4 Mb [] 48% 1.1s\u001b[0K\u001b[1G146.4 Mb [] 49% 1.0s\u001b[0K\u001b[1G146.4 Mb [] 50% 1.0s\u001b[0K\u001b[1G146.4 Mb [] 51% 1.0s\u001b[0K\u001b[1G146.4 Mb [] 52% 1.0s\u001b[0K\u001b[1G146.4 Mb [] 54% 0.9s\u001b[0K\u001b[1G146.4 Mb [] 56% 0.8s\u001b[0K\u001b[1G146.4 Mb [] 58% 0.8s\u001b[0K\u001b[1G146.4 Mb [] 60% 0.8s\u001b[0K\u001b[1G146.4 Mb [] 62% 0.7s\u001b[0K\u001b[1G146.4 Mb [] 63% 0.7s\u001b[0K\u001b[1G146.4 Mb [] 65% 0.6s\u001b[0K\u001b[1G146.4 Mb [] 67% 0.6s\u001b[0K\u001b[1G146.4 Mb [] 68% 0.6s\u001b[0K\u001b[1G146.4 Mb [] 70% 0.5s\u001b[0K\u001b[1G146.4 Mb [] 72% 0.5s\u001b[0K\u001b[1G146.4 Mb [] 74% 0.4s\u001b[0K\u001b[1G146.4 Mb [] 75% 0.4s\u001b[0K\u001b[1G146.4 Mb [] 77% 0.4s\u001b[0K\u001b[1G146.4 Mb [] 79% 0.3s\u001b[0K\u001b[1G146.4 Mb [] 80% 0.3s\u001b[0K\u001b[1G146.4 Mb [] 82% 0.3s\u001b[0K\u001b[1G146.4 Mb [] 83% 0.3s\u001b[0K\u001b[1G146.4 Mb [] 85% 0.2s\u001b[0K\u001b[1G146.4 Mb [] 86% 0.2s\u001b[0K\u001b[1G146.4 Mb [] 88% 0.2s\u001b[0K\u001b[1G146.4 Mb [] 89% 0.2s\u001b[0K\u001b[1G146.4 Mb [] 90% 0.2s\u001b[0K\u001b[1G146.4 Mb [] 91% 0.1s\u001b[0K\u001b[1G146.4 Mb [] 92% 0.1s\u001b[0K\u001b[1G146.4 Mb [] 93% 0.1s\u001b[0K\u001b[1G146.4 Mb [] 94% 0.1s\u001b[0K\u001b[1G146.4 Mb [] 96% 0.1s\u001b[0K\u001b[1G146.4 Mb [] 97% 0.0s\u001b[0K\u001b[1G146.4 Mb [] 99% 0.0s\u001b[0K\u001b[1G146.4 Mb [] 100% 0.0s\u001b[0K\n",
            "Chromium 115.0.5790.24 (playwright build v1067) downloaded to /root/.cache/ms-playwright/chromium-1067\n",
            "Downloading FFMPEG playwright build v1009\u001b[2m from https://playwright.azureedge.net/builds/ffmpeg/1009/ffmpeg-linux.zip\u001b[22m\n",
            "\u001b[1G2.6 Mb [] 0% 0.2s\u001b[0K\u001b[1G2.6 Mb [] 2% 0.7s\u001b[0K\u001b[1G2.6 Mb [] 6% 0.5s\u001b[0K\u001b[1G2.6 Mb [] 13% 0.3s\u001b[0K\u001b[1G2.6 Mb [] 29% 0.2s\u001b[0K\u001b[1G2.6 Mb [] 58% 0.1s\u001b[0K\u001b[1G2.6 Mb [] 100% 0.0s\u001b[0K\n",
            "FFMPEG playwright build v1009 downloaded to /root/.cache/ms-playwright/ffmpeg-1009\n",
            "Downloading Firefox 113.0 (playwright build v1408)\u001b[2m from https://playwright.azureedge.net/builds/firefox/1408/firefox-ubuntu-20.04.zip\u001b[22m\n",
            "\u001b[1G78.7 Mb [] 0% 0.0s\u001b[0K\u001b[1G78.7 Mb [] 0% 18.5s\u001b[0K\u001b[1G78.7 Mb [] 0% 14.4s\u001b[0K\u001b[1G78.7 Mb [] 0% 8.0s\u001b[0K\u001b[1G78.7 Mb [] 1% 4.3s\u001b[0K\u001b[1G78.7 Mb [] 3% 2.8s\u001b[0K\u001b[1G78.7 Mb [] 5% 2.0s\u001b[0K\u001b[1G78.7 Mb [] 6% 1.8s\u001b[0K\u001b[1G78.7 Mb [] 8% 1.7s\u001b[0K\u001b[1G78.7 Mb [] 10% 1.4s\u001b[0K\u001b[1G78.7 Mb [] 13% 1.2s\u001b[0K\u001b[1G78.7 Mb [] 15% 1.1s\u001b[0K\u001b[1G78.7 Mb [] 17% 1.0s\u001b[0K\u001b[1G78.7 Mb [] 18% 1.0s\u001b[0K\u001b[1G78.7 Mb [] 19% 1.0s\u001b[0K\u001b[1G78.7 Mb [] 22% 0.9s\u001b[0K\u001b[1G78.7 Mb [] 25% 0.8s\u001b[0K\u001b[1G78.7 Mb [] 26% 0.8s\u001b[0K\u001b[1G78.7 Mb [] 29% 0.7s\u001b[0K\u001b[1G78.7 Mb [] 31% 0.7s\u001b[0K\u001b[1G78.7 Mb [] 33% 0.7s\u001b[0K\u001b[1G78.7 Mb [] 35% 0.6s\u001b[0K\u001b[1G78.7 Mb [] 38% 0.6s\u001b[0K\u001b[1G78.7 Mb [] 39% 0.6s\u001b[0K\u001b[1G78.7 Mb [] 41% 0.6s\u001b[0K\u001b[1G78.7 Mb [] 44% 0.5s\u001b[0K\u001b[1G78.7 Mb [] 45% 0.5s\u001b[0K\u001b[1G78.7 Mb [] 46% 0.5s\u001b[0K\u001b[1G78.7 Mb [] 49% 0.5s\u001b[0K\u001b[1G78.7 Mb [] 52% 0.4s\u001b[0K\u001b[1G78.7 Mb [] 54% 0.4s\u001b[0K\u001b[1G78.7 Mb [] 57% 0.4s\u001b[0K\u001b[1G78.7 Mb [] 59% 0.4s\u001b[0K\u001b[1G78.7 Mb [] 61% 0.4s\u001b[0K\u001b[1G78.7 Mb [] 62% 0.3s\u001b[0K\u001b[1G78.7 Mb [] 65% 0.3s\u001b[0K\u001b[1G78.7 Mb [] 67% 0.3s\u001b[0K\u001b[1G78.7 Mb [] 70% 0.3s\u001b[0K\u001b[1G78.7 Mb [] 72% 0.2s\u001b[0K\u001b[1G78.7 Mb [] 74% 0.2s\u001b[0K\u001b[1G78.7 Mb [] 77% 0.2s\u001b[0K\u001b[1G78.7 Mb [] 80% 0.2s\u001b[0K\u001b[1G78.7 Mb [] 83% 0.1s\u001b[0K\u001b[1G78.7 Mb [] 86% 0.1s\u001b[0K\u001b[1G78.7 Mb [] 89% 0.1s\u001b[0K\u001b[1G78.7 Mb [] 91% 0.1s\u001b[0K\u001b[1G78.7 Mb [] 94% 0.1s\u001b[0K\u001b[1G78.7 Mb [] 95% 0.0s\u001b[0K\u001b[1G78.7 Mb [] 97% 0.0s\u001b[0K\u001b[1G78.7 Mb [] 100% 0.0s\u001b[0K\n",
            "Firefox 113.0 (playwright build v1408) downloaded to /root/.cache/ms-playwright/firefox-1408\n",
            "Downloading Webkit 16.4 (playwright build v1860)\u001b[2m from https://playwright.azureedge.net/builds/webkit/1860/webkit-ubuntu-20.04.zip\u001b[22m\n",
            "\u001b[1G114.5 Mb [] 0% 0.0s\u001b[0K\u001b[1G114.5 Mb [] 0% 34.0s\u001b[0K\u001b[1G114.5 Mb [] 0% 23.9s\u001b[0K\u001b[1G114.5 Mb [] 0% 23.8s\u001b[0K\u001b[1G114.5 Mb [] 0% 18.5s\u001b[0K\u001b[1G114.5 Mb [] 0% 13.1s\u001b[0K\u001b[1G114.5 Mb [] 0% 12.1s\u001b[0K\u001b[1G114.5 Mb [] 1% 9.5s\u001b[0K\u001b[1G114.5 Mb [] 1% 7.9s\u001b[0K\u001b[1G114.5 Mb [] 2% 6.8s\u001b[0K\u001b[1G114.5 Mb [] 2% 6.1s\u001b[0K\u001b[1G114.5 Mb [] 3% 5.3s\u001b[0K\u001b[1G114.5 Mb [] 4% 4.7s\u001b[0K\u001b[1G114.5 Mb [] 4% 4.5s\u001b[0K\u001b[1G114.5 Mb [] 5% 4.3s\u001b[0K\u001b[1G114.5 Mb [] 6% 4.1s\u001b[0K\u001b[1G114.5 Mb [] 7% 3.5s\u001b[0K\u001b[1G114.5 Mb [] 8% 3.2s\u001b[0K\u001b[1G114.5 Mb [] 10% 2.9s\u001b[0K\u001b[1G114.5 Mb [] 11% 2.6s\u001b[0K\u001b[1G114.5 Mb [] 12% 2.6s\u001b[0K\u001b[1G114.5 Mb [] 13% 2.5s\u001b[0K\u001b[1G114.5 Mb [] 14% 2.3s\u001b[0K\u001b[1G114.5 Mb [] 16% 2.1s\u001b[0K\u001b[1G114.5 Mb [] 17% 2.1s\u001b[0K\u001b[1G114.5 Mb [] 18% 2.0s\u001b[0K\u001b[1G114.5 Mb [] 20% 1.8s\u001b[0K\u001b[1G114.5 Mb [] 21% 1.8s\u001b[0K\u001b[1G114.5 Mb [] 22% 1.7s\u001b[0K\u001b[1G114.5 Mb [] 24% 1.7s\u001b[0K\u001b[1G114.5 Mb [] 25% 1.6s\u001b[0K\u001b[1G114.5 Mb [] 26% 1.6s\u001b[0K\u001b[1G114.5 Mb [] 27% 1.6s\u001b[0K\u001b[1G114.5 Mb [] 28% 1.5s\u001b[0K\u001b[1G114.5 Mb [] 30% 1.4s\u001b[0K\u001b[1G114.5 Mb [] 31% 1.4s\u001b[0K\u001b[1G114.5 Mb [] 32% 1.3s\u001b[0K\u001b[1G114.5 Mb [] 34% 1.3s\u001b[0K\u001b[1G114.5 Mb [] 36% 1.2s\u001b[0K\u001b[1G114.5 Mb [] 37% 1.2s\u001b[0K\u001b[1G114.5 Mb [] 39% 1.1s\u001b[0K\u001b[1G114.5 Mb [] 40% 1.1s\u001b[0K\u001b[1G114.5 Mb [] 41% 1.1s\u001b[0K\u001b[1G114.5 Mb [] 43% 1.0s\u001b[0K\u001b[1G114.5 Mb [] 44% 1.0s\u001b[0K\u001b[1G114.5 Mb [] 46% 1.0s\u001b[0K\u001b[1G114.5 Mb [] 47% 0.9s\u001b[0K\u001b[1G114.5 Mb [] 48% 0.9s\u001b[0K\u001b[1G114.5 Mb [] 49% 0.9s\u001b[0K\u001b[1G114.5 Mb [] 51% 0.9s\u001b[0K\u001b[1G114.5 Mb [] 53% 0.8s\u001b[0K\u001b[1G114.5 Mb [] 54% 0.8s\u001b[0K\u001b[1G114.5 Mb [] 56% 0.7s\u001b[0K\u001b[1G114.5 Mb [] 58% 0.7s\u001b[0K\u001b[1G114.5 Mb [] 60% 0.6s\u001b[0K\u001b[1G114.5 Mb [] 62% 0.6s\u001b[0K\u001b[1G114.5 Mb [] 64% 0.6s\u001b[0K\u001b[1G114.5 Mb [] 66% 0.5s\u001b[0K\u001b[1G114.5 Mb [] 68% 0.5s\u001b[0K\u001b[1G114.5 Mb [] 70% 0.4s\u001b[0K\u001b[1G114.5 Mb [] 72% 0.4s\u001b[0K\u001b[1G114.5 Mb [] 74% 0.4s\u001b[0K\u001b[1G114.5 Mb [] 76% 0.4s\u001b[0K\u001b[1G114.5 Mb [] 78% 0.3s\u001b[0K\u001b[1G114.5 Mb [] 80% 0.3s\u001b[0K\u001b[1G114.5 Mb [] 82% 0.3s\u001b[0K\u001b[1G114.5 Mb [] 83% 0.2s\u001b[0K\u001b[1G114.5 Mb [] 85% 0.2s\u001b[0K\u001b[1G114.5 Mb [] 87% 0.2s\u001b[0K\u001b[1G114.5 Mb [] 89% 0.1s\u001b[0K\u001b[1G114.5 Mb [] 91% 0.1s\u001b[0K\u001b[1G114.5 Mb [] 93% 0.1s\u001b[0K\u001b[1G114.5 Mb [] 95% 0.1s\u001b[0K\u001b[1G114.5 Mb [] 97% 0.0s\u001b[0K\u001b[1G114.5 Mb [] 100% 0.0s\u001b[0K\n",
            "Webkit 16.4 (playwright build v1860) downloaded to /root/.cache/ms-playwright/webkit-1860\n"
          ]
        }
      ]
    },
    {
      "cell_type": "code",
      "source": [
        "!pip install langchain"
      ],
      "metadata": {
        "colab": {
          "base_uri": "https://localhost:8080/"
        },
        "id": "GZSVSuOubZS4",
        "outputId": "208fa4e2-efdc-4db8-c574-48d7a1360446"
      },
      "execution_count": 5,
      "outputs": [
        {
          "output_type": "stream",
          "name": "stdout",
          "text": [
            "Collecting langchain\n",
            "  Downloading langchain-0.0.222-py3-none-any.whl (1.2 MB)\n",
            "\u001b[?25l     \u001b[90m━━━━━━━━━━━━━━━━━━━━━━━━━━━━━━━━━━━━━━━━\u001b[0m \u001b[32m0.0/1.2 MB\u001b[0m \u001b[31m?\u001b[0m eta \u001b[36m-:--:--\u001b[0m\r\u001b[2K     \u001b[91m━━━━━━━━━━━━━━━━━━━━━\u001b[0m\u001b[91m╸\u001b[0m\u001b[90m━━━━━━━━━━━━━━━━━━\u001b[0m \u001b[32m0.7/1.2 MB\u001b[0m \u001b[31m19.5 MB/s\u001b[0m eta \u001b[36m0:00:01\u001b[0m\r\u001b[2K     \u001b[90m━━━━━━━━━━━━━━━━━━━━━━━━━━━━━━━━━━━━━━━━\u001b[0m \u001b[32m1.2/1.2 MB\u001b[0m \u001b[31m21.6 MB/s\u001b[0m eta \u001b[36m0:00:00\u001b[0m\n",
            "\u001b[?25hRequirement already satisfied: PyYAML>=5.4.1 in /usr/local/lib/python3.10/dist-packages (from langchain) (6.0)\n",
            "Requirement already satisfied: SQLAlchemy<3,>=1.4 in /usr/local/lib/python3.10/dist-packages (from langchain) (2.0.16)\n",
            "Requirement already satisfied: aiohttp<4.0.0,>=3.8.3 in /usr/local/lib/python3.10/dist-packages (from langchain) (3.8.4)\n",
            "Requirement already satisfied: async-timeout<5.0.0,>=4.0.0 in /usr/local/lib/python3.10/dist-packages (from langchain) (4.0.2)\n",
            "Collecting dataclasses-json<0.6.0,>=0.5.7 (from langchain)\n",
            "  Downloading dataclasses_json-0.5.9-py3-none-any.whl (26 kB)\n",
            "Collecting langchainplus-sdk>=0.0.17 (from langchain)\n",
            "  Downloading langchainplus_sdk-0.0.20-py3-none-any.whl (25 kB)\n",
            "Requirement already satisfied: numexpr<3.0.0,>=2.8.4 in /usr/local/lib/python3.10/dist-packages (from langchain) (2.8.4)\n",
            "Requirement already satisfied: numpy<2,>=1 in /usr/local/lib/python3.10/dist-packages (from langchain) (1.22.4)\n",
            "Collecting openapi-schema-pydantic<2.0,>=1.2 (from langchain)\n",
            "  Downloading openapi_schema_pydantic-1.2.4-py3-none-any.whl (90 kB)\n",
            "\u001b[2K     \u001b[90m━━━━━━━━━━━━━━━━━━━━━━━━━━━━━━━━━━━━━━━━\u001b[0m \u001b[32m90.0/90.0 kB\u001b[0m \u001b[31m10.1 MB/s\u001b[0m eta \u001b[36m0:00:00\u001b[0m\n",
            "\u001b[?25hRequirement already satisfied: pydantic<2,>=1 in /usr/local/lib/python3.10/dist-packages (from langchain) (1.10.9)\n",
            "Requirement already satisfied: requests<3,>=2 in /usr/local/lib/python3.10/dist-packages (from langchain) (2.27.1)\n",
            "Requirement already satisfied: tenacity<9.0.0,>=8.1.0 in /usr/local/lib/python3.10/dist-packages (from langchain) (8.2.2)\n",
            "Requirement already satisfied: attrs>=17.3.0 in /usr/local/lib/python3.10/dist-packages (from aiohttp<4.0.0,>=3.8.3->langchain) (23.1.0)\n",
            "Requirement already satisfied: charset-normalizer<4.0,>=2.0 in /usr/local/lib/python3.10/dist-packages (from aiohttp<4.0.0,>=3.8.3->langchain) (2.0.12)\n",
            "Requirement already satisfied: multidict<7.0,>=4.5 in /usr/local/lib/python3.10/dist-packages (from aiohttp<4.0.0,>=3.8.3->langchain) (6.0.4)\n",
            "Requirement already satisfied: yarl<2.0,>=1.0 in /usr/local/lib/python3.10/dist-packages (from aiohttp<4.0.0,>=3.8.3->langchain) (1.9.2)\n",
            "Requirement already satisfied: frozenlist>=1.1.1 in /usr/local/lib/python3.10/dist-packages (from aiohttp<4.0.0,>=3.8.3->langchain) (1.3.3)\n",
            "Requirement already satisfied: aiosignal>=1.1.2 in /usr/local/lib/python3.10/dist-packages (from aiohttp<4.0.0,>=3.8.3->langchain) (1.3.1)\n",
            "Collecting marshmallow<4.0.0,>=3.3.0 (from dataclasses-json<0.6.0,>=0.5.7->langchain)\n",
            "  Downloading marshmallow-3.19.0-py3-none-any.whl (49 kB)\n",
            "\u001b[2K     \u001b[90m━━━━━━━━━━━━━━━━━━━━━━━━━━━━━━━━━━━━━━━━\u001b[0m \u001b[32m49.1/49.1 kB\u001b[0m \u001b[31m5.1 MB/s\u001b[0m eta \u001b[36m0:00:00\u001b[0m\n",
            "\u001b[?25hCollecting marshmallow-enum<2.0.0,>=1.5.1 (from dataclasses-json<0.6.0,>=0.5.7->langchain)\n",
            "  Downloading marshmallow_enum-1.5.1-py2.py3-none-any.whl (4.2 kB)\n",
            "Collecting typing-inspect>=0.4.0 (from dataclasses-json<0.6.0,>=0.5.7->langchain)\n",
            "  Downloading typing_inspect-0.9.0-py3-none-any.whl (8.8 kB)\n",
            "Requirement already satisfied: typing-extensions>=4.2.0 in /usr/local/lib/python3.10/dist-packages (from pydantic<2,>=1->langchain) (4.6.3)\n",
            "Requirement already satisfied: urllib3<1.27,>=1.21.1 in /usr/local/lib/python3.10/dist-packages (from requests<3,>=2->langchain) (1.26.16)\n",
            "Requirement already satisfied: certifi>=2017.4.17 in /usr/local/lib/python3.10/dist-packages (from requests<3,>=2->langchain) (2023.5.7)\n",
            "Requirement already satisfied: idna<4,>=2.5 in /usr/local/lib/python3.10/dist-packages (from requests<3,>=2->langchain) (3.4)\n",
            "Requirement already satisfied: greenlet!=0.4.17 in /usr/local/lib/python3.10/dist-packages (from SQLAlchemy<3,>=1.4->langchain) (2.0.2)\n",
            "Requirement already satisfied: packaging>=17.0 in /usr/local/lib/python3.10/dist-packages (from marshmallow<4.0.0,>=3.3.0->dataclasses-json<0.6.0,>=0.5.7->langchain) (23.1)\n",
            "Collecting mypy-extensions>=0.3.0 (from typing-inspect>=0.4.0->dataclasses-json<0.6.0,>=0.5.7->langchain)\n",
            "  Downloading mypy_extensions-1.0.0-py3-none-any.whl (4.7 kB)\n",
            "Installing collected packages: mypy-extensions, marshmallow, typing-inspect, openapi-schema-pydantic, marshmallow-enum, langchainplus-sdk, dataclasses-json, langchain\n",
            "Successfully installed dataclasses-json-0.5.9 langchain-0.0.222 langchainplus-sdk-0.0.20 marshmallow-3.19.0 marshmallow-enum-1.5.1 mypy-extensions-1.0.0 openapi-schema-pydantic-1.2.4 typing-inspect-0.9.0\n"
          ]
        }
      ]
    },
    {
      "cell_type": "code",
      "source": [
        "from langchain.agents.agent_toolkits import PlayWrightBrowserToolkit\n",
        "from langchain.tools.playwright.utils import (\n",
        "    create_async_playwright_browser,\n",
        "    create_sync_playwright_browser,  # A synchronous browser is available, though it isn't compatible with jupyter.\n",
        ")"
      ],
      "metadata": {
        "id": "oMr5WVLbbi2-"
      },
      "execution_count": 6,
      "outputs": []
    },
    {
      "cell_type": "code",
      "source": [
        "# This import is required only for jupyter notebooks, since they have their own eventloop\n",
        "import nest_asyncio\n",
        "\n",
        "nest_asyncio.apply()"
      ],
      "metadata": {
        "id": "Vp0v6HPVbo_L"
      },
      "execution_count": 7,
      "outputs": []
    },
    {
      "cell_type": "code",
      "source": [
        "async_browser = create_async_playwright_browser()\n",
        "toolkit = PlayWrightBrowserToolkit.from_browser(async_browser=async_browser)\n",
        "tools = toolkit.get_tools()\n",
        "tools"
      ],
      "metadata": {
        "id": "r-kdgawUbxkc"
      },
      "execution_count": null,
      "outputs": []
    },
    {
      "cell_type": "code",
      "source": [
        "tools_by_name = {tool.name: tool for tool in tools}\n",
        "navigate_tool = tools_by_name[\"navigate_browser\"]\n",
        "get_elements_tool = tools_by_name[\"get_elements\"]"
      ],
      "metadata": {
        "id": "zukfhgSCb0W5"
      },
      "execution_count": 9,
      "outputs": []
    },
    {
      "cell_type": "code",
      "source": [
        "await navigate_tool.arun(\n",
        "    {\"url\": \"https://web.archive.org/web/20230428131116/https://www.cnn.com/world\"}\n",
        ")"
      ],
      "metadata": {
        "colab": {
          "base_uri": "https://localhost:8080/",
          "height": 36
        },
        "id": "Q8ELggHcb56c",
        "outputId": "21fdb2a7-09dc-46fe-c65f-7393c23ef633"
      },
      "execution_count": 11,
      "outputs": [
        {
          "output_type": "execute_result",
          "data": {
            "text/plain": [
              "'Navigating to https://web.archive.org/web/20230428131116/https://www.cnn.com/world returned status code 200'"
            ],
            "application/vnd.google.colaboratory.intrinsic+json": {
              "type": "string"
            }
          },
          "metadata": {},
          "execution_count": 11
        }
      ]
    },
    {
      "cell_type": "code",
      "source": [
        "# The browser is shared across tools, so the agent can interact in a stateful manner\n",
        "await get_elements_tool.arun(\n",
        "    {\"selector\": \".container__headline\", \"attributes\": [\"innerText\"]}\n",
        ")"
      ],
      "metadata": {
        "colab": {
          "base_uri": "https://localhost:8080/",
          "height": 129
        },
        "id": "hDOKJKjRcIrs",
        "outputId": "d6ee5b76-f23a-476b-f074-da1353825268"
      },
      "execution_count": 12,
      "outputs": [
        {
          "output_type": "execute_result",
          "data": {
            "text/plain": [
              "'[{\"innerText\": \"These Ukrainian veterinarians are risking their lives to care for dogs and cats in the war zone\"}, {\"innerText\": \"Life in the ocean’s ‘twilight zone’ could disappear due to the climate crisis\"}, {\"innerText\": \"Clashes renew in West Darfur as food and water shortages worsen in Sudan violence\"}, {\"innerText\": \"Thai policeman’s wife investigated over alleged murder and a dozen other poison cases\"}, {\"innerText\": \"American teacher escaped Sudan on French evacuation plane, with no help offered back home\"}, {\"innerText\": \"Dubai’s emerging hip-hop scene is finding its voice\"}, {\"innerText\": \"How an underwater film inspired a marine protected area off Kenya’s coast\"}, {\"innerText\": \"The Iranian drones deployed by Russia in Ukraine are powered by stolen Western technology, research reveals\"}, {\"innerText\": \"India says border violations erode ‘entire basis’ of ties with China\"}, {\"innerText\": \"Australian police sift through 3,000 tons of trash for missing woman’s remains\"}, {\"innerText\": \"As US and Philippine defense ties grow, China warns over Taiwan tensions\"}, {\"innerText\": \"Don McLean offers duet with South Korean president who sang ‘American Pie’ to Biden\"}, {\"innerText\": \"Almost two-thirds of elephant habitat lost across Asia, study finds\"}, {\"innerText\": \"‘We don’t sleep … I would call it fainting’: Working as a doctor in Sudan’s crisis\"}, {\"innerText\": \"Kenya arrests second pastor to face criminal charges ‘related to mass killing of his followers’\"}, {\"innerText\": \"Russia launches deadly wave of strikes across Ukraine\"}, {\"innerText\": \"Woman forced to leave her forever home or ‘walk to your death’ she says\"}, {\"innerText\": \"U.S. House Speaker Kevin McCarthy weighs in on Disney-DeSantis feud\"}, {\"innerText\": \"Two sides agree to extend Sudan ceasefire\"}, {\"innerText\": \"Spanish Leopard 2 tanks are on their way to Ukraine, defense minister confirms\"}, {\"innerText\": \"Flambéed pizza thought to have sparked deadly Madrid restaurant fire\"}, {\"innerText\": \"Another bomb found in Belgorod just days after Russia accidentally struck the city\"}, {\"innerText\": \"A Black teen’s murder sparked a crisis over racism in British policing. Thirty years on, little has changed\"}, {\"innerText\": \"Belgium destroys shipment of American beer after taking issue with ‘Champagne of Beer’ slogan\"}, {\"innerText\": \"UK Prime Minister Rishi Sunak rocked by resignation of top ally Raab over bullying allegations\"}, {\"innerText\": \"Iran’s Navy seizes Marshall Islands-flagged ship\"}, {\"innerText\": \"A divided Israel stands at a perilous crossroads on its 75th birthday\"}, {\"innerText\": \"Palestinian reporter breaks barriers by reporting in Hebrew on Israeli TV\"}, {\"innerText\": \"One-fifth of water pollution comes from textile dyes. But a shellfish-inspired solution could clean it up\"}, {\"innerText\": \"‘People sacrificed their lives for just\\xa010 dollars’: At least 78 killed in Yemen crowd surge\"}, {\"innerText\": \"Israeli police say two men shot near Jewish tomb in Jerusalem in suspected ‘terror attack’\"}, {\"innerText\": \"King Charles III’s coronation: Who’s performing at the ceremony\"}, {\"innerText\": \"The week in 33 photos\"}, {\"innerText\": \"Hong Kong’s endangered turtles\"}, {\"innerText\": \"In pictures: Britain’s Queen Camilla\"}, {\"innerText\": \"Catastrophic drought that’s pushed millions into crisis made 100 times more likely by climate change, analysis finds\"}, {\"innerText\": \"For years, a UK mining giant was untouchable in Zambia for pollution until a former miner’s son took them on\"}, {\"innerText\": \"Former Sudanese minister Ahmed Haroun wanted on war crimes charges freed from Khartoum prison\"}, {\"innerText\": \"WHO warns of ‘biological risk’ after Sudan fighters seize lab, as violence mars US-brokered ceasefire\"}, {\"innerText\": \"How Colombia’s Petro, a former leftwing guerrilla, found his opening in Washington\"}, {\"innerText\": \"Bolsonaro accidentally created Facebook post questioning Brazil election results, say his attorneys\"}, {\"innerText\": \"Crowd kills over a dozen suspected gang members in Haiti\"}, {\"innerText\": \"Thousands of tequila bottles containing liquid meth seized\"}, {\"innerText\": \"Why send a US stealth submarine to South Korea – and tell the world about it?\"}, {\"innerText\": \"Fukushima’s fishing industry survived a nuclear disaster. 12 years on, it fears Tokyo’s next move may finish it off\"}, {\"innerText\": \"Singapore executes man for trafficking two pounds of cannabis\"}, {\"innerText\": \"Conservative Thai party looks to woo voters with promise to legalize sex toys\"}, {\"innerText\": \"Inside the Italian village being repopulated by Americans\"}, {\"innerText\": \"Strikes, soaring airfares and yo-yoing hotel fees: A traveler’s guide to the coronation\"}, {\"innerText\": \"A year in Azerbaijan: From spring’s Grand Prix to winter ski adventures\"}, {\"innerText\": \"The bicycle mayor peddling a two-wheeled revolution in Cape Town\"}, {\"innerText\": \"Tokyo ramen shop bans customers from using their phones while eating\"}, {\"innerText\": \"South African opera star will perform at coronation of King Charles III\"}, {\"innerText\": \"Luxury loot under the hammer: France auctions goods seized from drug dealers\"}, {\"innerText\": \"Judy Blume’s books were formative for generations of readers. Here’s why they endure\"}, {\"innerText\": \"Craft, salvage and sustainability take center stage at Milan Design Week\"}, {\"innerText\": \"Life-sized chocolate King Charles III sculpture unveiled to celebrate coronation\"}, {\"innerText\": \"Severe storms to strike the South again as millions in Texas could see damaging winds and hail\"}, {\"innerText\": \"The South is in the crosshairs of severe weather again, as the multi-day threat of large hail and tornadoes continues\"}, {\"innerText\": \"Spring snowmelt has cities along the Mississippi bracing for flooding in homes and businesses\"}, {\"innerText\": \"Know the difference between a tornado watch, a tornado warning and a tornado emergency\"}, {\"innerText\": \"Reporter spotted familiar face covering Sudan evacuation. See what happened next\"}, {\"innerText\": \"This country will soon become the world’s most populated\"}, {\"innerText\": \"April 27, 2023 - Russia-Ukraine news\"}, {\"innerText\": \"‘Often they shoot at each other’: Ukrainian drone operator details chaos in Russian ranks\"}, {\"innerText\": \"Hear from family members of Americans stuck in Sudan frustrated with US response\"}, {\"innerText\": \"U.S. talk show host Jerry Springer dies at 79\"}, {\"innerText\": \"Bureaucracy stalling at least one family’s evacuation from Sudan\"}, {\"innerText\": \"Girl to get life-saving treatment for rare immune disease\"}, {\"innerText\": \"Haiti’s crime rate more than doubles in a year\"}, {\"innerText\": \"Ocean census aims to discover 100,000 previously unknown marine species\"}, {\"innerText\": \"Wall Street Journal editor discusses reporter’s arrest in Moscow\"}, {\"innerText\": \"Can Tunisia’s democracy be saved?\"}, {\"innerText\": \"Yasmeen Lari, ‘starchitect’ turned social engineer, wins one of architecture’s most coveted prizes\"}, {\"innerText\": \"A massive, newly restored Frank Lloyd Wright mansion is up for sale\"}, {\"innerText\": \"Are these the most sustainable architectural projects in the world?\"}, {\"innerText\": \"Step inside a $72 million London townhouse in a converted army barracks\"}, {\"innerText\": \"A 3D-printing company is preparing to build on the lunar surface. But first, a moonshot at home\"}, {\"innerText\": \"Simona Halep says ‘the stress is huge’ as she battles to return to tennis following positive drug test\"}, {\"innerText\": \"Barcelona reaches third straight Women’s Champions League final with draw against Chelsea\"}, {\"innerText\": \"Wrexham: An intoxicating tale of Hollywood glamor and sporting romance\"}, {\"innerText\": \"Shohei Ohtani comes within inches of making yet more MLB history in Angels win\"}, {\"innerText\": \"This CNN Hero is recruiting recreational divers to help rebuild reefs in Florida one coral at a time\"}, {\"innerText\": \"This CNN Hero offers judgment-free veterinary care for the pets of those experiencing homelessness\"}, {\"innerText\": \"Don’t give up on milestones: A CNN Hero’s message for Autism Awareness Month\"}, {\"innerText\": \"CNN Hero of the Year Nelly Cheboi returned to Kenya with plans to lift more students out of poverty\"}]'"
            ],
            "application/vnd.google.colaboratory.intrinsic+json": {
              "type": "string"
            }
          },
          "metadata": {},
          "execution_count": 12
        }
      ]
    },
    {
      "cell_type": "code",
      "source": [
        "# If the agent wants to remember the current webpage, it can use the `current_webpage` tool\n",
        "await tools_by_name[\"current_webpage\"].arun({})"
      ],
      "metadata": {
        "colab": {
          "base_uri": "https://localhost:8080/",
          "height": 36
        },
        "id": "7HRRfsg2cezz",
        "outputId": "fbef8529-31fc-4efe-af71-2ae9748e3e98"
      },
      "execution_count": 13,
      "outputs": [
        {
          "output_type": "execute_result",
          "data": {
            "text/plain": [
              "'https://web.archive.org/web/20230428133211/https://cnn.com/world'"
            ],
            "application/vnd.google.colaboratory.intrinsic+json": {
              "type": "string"
            }
          },
          "metadata": {},
          "execution_count": 13
        }
      ]
    },
    {
      "cell_type": "markdown",
      "source": [
        "### Use within an Agent"
      ],
      "metadata": {
        "id": "M7yf6asrcjtk"
      }
    },
    {
      "cell_type": "code",
      "source": [
        "!pip install openai"
      ],
      "metadata": {
        "id": "L-9ATFDSeqhM"
      },
      "execution_count": null,
      "outputs": []
    },
    {
      "cell_type": "code",
      "source": [
        "import os\n",
        "os.environ[\"OPENAI_API_KEY\"] = \"sk\""
      ],
      "metadata": {
        "id": "7MUu0pB2fR7M"
      },
      "execution_count": 24,
      "outputs": []
    },
    {
      "cell_type": "code",
      "source": [
        "from langchain.llms import OpenAI"
      ],
      "metadata": {
        "id": "F-kSwi6qe-4N"
      },
      "execution_count": 25,
      "outputs": []
    },
    {
      "cell_type": "code",
      "execution_count": 26,
      "metadata": {
        "id": "KNOu_Af5aqZN"
      },
      "outputs": [],
      "source": [
        "from langchain.agents import initialize_agent, AgentType\n",
        "# from langchain.chat_models import ChatAnthropic\n",
        "\n",
        "# llm = ChatAnthropic(temperature=0)  # or any other LLM, e.g., ChatOpenAI(), OpenAI()\n",
        "llm = OpenAI(temperature=0)\n",
        "\n",
        "agent_chain = initialize_agent(\n",
        "    tools,\n",
        "    llm,\n",
        "    agent=AgentType.STRUCTURED_CHAT_ZERO_SHOT_REACT_DESCRIPTION,\n",
        "    verbose=True,\n",
        ")"
      ]
    },
    {
      "cell_type": "code",
      "source": [
        "result = await agent_chain.arun(\"What are the headers on langchain.com?\")\n",
        "print(result)"
      ],
      "metadata": {
        "id": "LJWH7w6ec3Ad"
      },
      "execution_count": null,
      "outputs": []
    }
  ]
}