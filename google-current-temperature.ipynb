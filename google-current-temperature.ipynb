{
  "nbformat": 4,
  "nbformat_minor": 0,
  "metadata": {
    "colab": {
      "provenance": [],
      "authorship_tag": "ABX9TyPOxoQ/a6N4sIKZ7qj+HX1z",
      "include_colab_link": true
    },
    "kernelspec": {
      "name": "python3",
      "display_name": "Python 3"
    },
    "language_info": {
      "name": "python"
    }
  },
  "cells": [
    {
      "cell_type": "markdown",
      "metadata": {
        "id": "view-in-github",
        "colab_type": "text"
      },
      "source": [
        "<a href=\"https://colab.research.google.com/github/JSJeong-me/KOSA-GPT_Python-2023/blob/main/google-current-temperature.ipynb\" target=\"_parent\"><img src=\"https://colab.research.google.com/assets/colab-badge.svg\" alt=\"Open In Colab\"/></a>"
      ]
    },
    {
      "cell_type": "code",
      "source": [
        "!pip install pyautogui"
      ],
      "metadata": {
        "id": "vGTGrfM7uBSP"
      },
      "execution_count": null,
      "outputs": []
    },
    {
      "cell_type": "code",
      "execution_count": null,
      "metadata": {
        "id": "P256c10AtobT"
      },
      "outputs": [],
      "source": [
        "import webbrowser\n",
        "import pyautogui\n",
        "import time\n",
        "\n",
        "# Open a new tab in default browser and navigate to Google\n",
        "webbrowser.open('http://www.google.com')\n",
        "\n",
        "# Wait for the page to load\n",
        "time.sleep(5)\n",
        "\n",
        "# Type 'current temperature' into Google search bar\n",
        "pyautogui.write('current temperature', interval=0.3)\n",
        "time.sleep(5)\n",
        "\n",
        "# Press the 'Enter' key to execute the search\n",
        "pyautogui.press('enter')\n"
      ]
    }
  ]
}