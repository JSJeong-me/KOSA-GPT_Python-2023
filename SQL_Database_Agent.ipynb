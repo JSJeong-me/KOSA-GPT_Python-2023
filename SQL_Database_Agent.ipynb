{
  "nbformat": 4,
  "nbformat_minor": 0,
  "metadata": {
    "colab": {
      "provenance": [],
      "include_colab_link": true
    },
    "kernelspec": {
      "name": "python3",
      "display_name": "Python 3"
    },
    "language_info": {
      "name": "python"
    }
  },
  "cells": [
    {
      "cell_type": "markdown",
      "metadata": {
        "id": "view-in-github",
        "colab_type": "text"
      },
      "source": [
        "<a href=\"https://colab.research.google.com/github/JSJeong-me/KOSA-GPT_Python-2023/blob/main/SQL_Database_Agent.ipynb\" target=\"_parent\"><img src=\"https://colab.research.google.com/assets/colab-badge.svg\" alt=\"Open In Colab\"/></a>"
      ]
    },
    {
      "cell_type": "code",
      "source": [
        "!pip install  langchain openai pymysql --upgrade -q"
      ],
      "metadata": {
        "id": "01A-AWhxPka9"
      },
      "execution_count": null,
      "outputs": []
    },
    {
      "cell_type": "markdown",
      "source": [
        "##Agents"
      ],
      "metadata": {
        "id": "JWDoW0HUhfxL"
      }
    },
    {
      "cell_type": "markdown",
      "source": [
        "https://python.langchain.com/en/latest/modules/agents/getting_started.html\n",
        "\n"
      ],
      "metadata": {
        "id": "rrH3mfgchyyT"
      }
    },
    {
      "cell_type": "code",
      "source": [
        "import os\n",
        "os.environ['OPENAI_API_KEY'] = \"sk-\"\n",
        "os.environ[\"SERPAPI_API_KEY\"] = \"se-\""
      ],
      "metadata": {
        "id": "KHHo_6htR1GA"
      },
      "execution_count": null,
      "outputs": []
    },
    {
      "cell_type": "code",
      "source": [
        "!pip install google-search-results -q"
      ],
      "metadata": {
        "id": "_brJP_HbhW3K"
      },
      "execution_count": null,
      "outputs": []
    },
    {
      "cell_type": "markdown",
      "source": [
        "https://python.langchain.com/en/latest/modules/agents/agents/agent_types.html"
      ],
      "metadata": {
        "id": "7PLCAVpKj2eU"
      }
    },
    {
      "cell_type": "code",
      "source": [
        "from langchain.agents import load_tools\n",
        "from langchain.agents import initialize_agent\n",
        "from langchain.agents import AgentType\n",
        "from langchain.llms import OpenAI"
      ],
      "metadata": {
        "id": "66hNmNKMhd5n"
      },
      "execution_count": null,
      "outputs": []
    },
    {
      "cell_type": "code",
      "source": [
        "llm = OpenAI(temperature=0)\n",
        "tools = load_tools([\"serpapi\", \"llm-math\"], llm=llm)"
      ],
      "metadata": {
        "id": "CZVJLedJhj9A"
      },
      "execution_count": null,
      "outputs": []
    },
    {
      "cell_type": "code",
      "source": [
        "agent = initialize_agent(tools, llm, agent=AgentType.ZERO_SHOT_REACT_DESCRIPTION)\n",
        "agent.run(\"Who is Leo DiCaprio's girlfriend? What is her current age raised to the 0.43 power?\")"
      ],
      "metadata": {
        "id": "3z_hnwRQkHlN"
      },
      "execution_count": null,
      "outputs": []
    },
    {
      "cell_type": "code",
      "source": [
        "agent = initialize_agent(tools, llm, agent=AgentType.ZERO_SHOT_REACT_DESCRIPTION, verbose=True)\n",
        "agent.run(\"Who is Leo DiCaprio's girlfriend? What is her current age raised to the 0.43 power?\")"
      ],
      "metadata": {
        "id": "Z1obLhbZkR05"
      },
      "execution_count": null,
      "outputs": []
    },
    {
      "cell_type": "markdown",
      "source": [
        "https://python.langchain.com/en/latest/modules/agents/toolkits/examples/sql_database.html"
      ],
      "metadata": {
        "id": "_2VxCUB2h7Gl"
      }
    },
    {
      "cell_type": "code",
      "execution_count": null,
      "metadata": {
        "id": "-ewK38IAPhsU"
      },
      "outputs": [],
      "source": [
        "from langchain.agents import create_sql_agent\n",
        "from langchain.agents.agent_toolkits import SQLDatabaseToolkit\n",
        "from langchain.sql_database import SQLDatabase\n",
        "from langchain.llms.openai import OpenAI\n",
        "from langchain.agents import AgentExecutor"
      ]
    },
    {
      "cell_type": "markdown",
      "source": [
        "https://www.mysqltutorial.org/mysql-sample-database.aspx"
      ],
      "metadata": {
        "id": "dhr58gI-Auu_"
      }
    },
    {
      "cell_type": "code",
      "source": [
        "db_user = \"db_user\"\n",
        "db_password = \"db_password\"\n",
        "db_host = \"db_host\"\n",
        "db_name = \"db_name\"\n",
        "db = SQLDatabase.from_uri(f\"mysql+pymysql://{db_user}:{db_password}@{db_host}/{db_name}\")"
      ],
      "metadata": {
        "id": "M8f9qz6GPmO8"
      },
      "execution_count": null,
      "outputs": []
    },
    {
      "cell_type": "code",
      "source": [
        "# llm=OpenAI(temperature=0)\n",
        "from langchain.chat_models import ChatOpenAI\n",
        "llm = ChatOpenAI(model_name=\"gpt-3.5-turbo\")\n",
        "# chat = ChatOpenAI(model_name=\"gpt-4\")"
      ],
      "metadata": {
        "id": "8Ca9LSrpbhFu"
      },
      "execution_count": null,
      "outputs": []
    },
    {
      "cell_type": "code",
      "source": [
        "toolkit = SQLDatabaseToolkit(db=db)\n",
        "\n",
        "agent_executor = create_sql_agent(\n",
        "    llm=llm,\n",
        "    toolkit=toolkit,\n",
        "    verbose=True\n",
        ")"
      ],
      "metadata": {
        "id": "jJJuOzhAP4Ob"
      },
      "execution_count": null,
      "outputs": []
    },
    {
      "cell_type": "markdown",
      "source": [
        "###Describing a table"
      ],
      "metadata": {
        "id": "PZkzmH8ee49i"
      }
    },
    {
      "cell_type": "code",
      "source": [
        "agent_executor.run(\"Describe the Order related table and how they are related\")"
      ],
      "metadata": {
        "id": "5wyZzuT9BqCf"
      },
      "execution_count": null,
      "outputs": []
    },
    {
      "cell_type": "markdown",
      "source": [
        "###Recovering from an error"
      ],
      "metadata": {
        "id": "AxeXiqODezwk"
      }
    },
    {
      "cell_type": "code",
      "source": [
        "agent_executor.run(\"Describe the PurchaseDetails table\")"
      ],
      "metadata": {
        "id": "35oyluNYRxe_"
      },
      "execution_count": null,
      "outputs": []
    },
    {
      "cell_type": "code",
      "source": [
        "agent_executor.run(\"Find the top 5 products with the highest total sales revenue\")"
      ],
      "metadata": {
        "id": "-O6w_qCsRsNO"
      },
      "execution_count": null,
      "outputs": []
    },
    {
      "cell_type": "code",
      "source": [
        "agent_executor.run(\"List top 3  countries with the highest number of orders\")"
      ],
      "metadata": {
        "id": "a7TJi0JzfHZP"
      },
      "execution_count": null,
      "outputs": []
    },
    {
      "cell_type": "code",
      "source": [],
      "metadata": {
        "id": "-gubSOK_SJSO"
      },
      "execution_count": null,
      "outputs": []
    }
  ]
}